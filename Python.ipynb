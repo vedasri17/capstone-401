{
  "cells": [
    {
      "cell_type": "markdown",
      "metadata": {
        "id": "view-in-github",
        "colab_type": "text"
      },
      "source": [
        "<a href=\"https://colab.research.google.com/github/vedasri17/capstone-401/blob/main/Python.ipynb\" target=\"_parent\"><img src=\"https://colab.research.google.com/assets/colab-badge.svg\" alt=\"Open In Colab\"/></a>"
      ]
    },
    {
      "cell_type": "code",
      "execution_count": null,
      "metadata": {
        "colab": {
          "base_uri": "https://localhost:8080/"
        },
        "id": "6QkjsX7OzgEh",
        "outputId": "7796ac01-9f2b-4ab1-fd39-35a520f17074"
      },
      "outputs": [
        {
          "name": "stdout",
          "output_type": "stream",
          "text": [
            "Hello students\n"
          ]
        }
      ],
      "source": [
        "print(\"Hello students\")"
      ]
    },
    {
      "cell_type": "code",
      "execution_count": null,
      "metadata": {
        "colab": {
          "base_uri": "https://localhost:8080/"
        },
        "id": "vdTPmNYxz1pc",
        "outputId": "3ec7167f-06fa-420a-acf0-438261357a3d"
      },
      "outputs": [
        {
          "name": "stdout",
          "output_type": "stream",
          "text": [
            "python datascience 17\n"
          ]
        }
      ],
      "source": [
        "print(\"python\",\"datascience\",17)"
      ]
    },
    {
      "cell_type": "code",
      "execution_count": null,
      "metadata": {
        "colab": {
          "base_uri": "https://localhost:8080/"
        },
        "id": "tD-Aegra0Miv",
        "outputId": "235924a5-eff9-46f8-c997-26a66817d3ac"
      },
      "outputs": [
        {
          "name": "stdout",
          "output_type": "stream",
          "text": [
            "5\n"
          ]
        }
      ],
      "source": [
        "i=5\n",
        "print(i)"
      ]
    },
    {
      "cell_type": "code",
      "execution_count": null,
      "metadata": {
        "colab": {
          "background_save": true
        },
        "id": "P6bVG4Xw0TOS",
        "outputId": "712f456b-d944-4e91-b8fa-b8553346cf7f"
      },
      "outputs": [
        {
          "data": {
            "text/plain": [
              "int"
            ]
          },
          "execution_count": 4,
          "metadata": {},
          "output_type": "execute_result"
        }
      ],
      "source": [
        "type(i)"
      ]
    },
    {
      "cell_type": "code",
      "source": [
        "i=\"code\"\n",
        "print(i)\n",
        "type(i)"
      ],
      "metadata": {
        "id": "_OdsfUj4iM1E",
        "colab": {
          "base_uri": "https://localhost:8080/"
        },
        "outputId": "f1ff45c9-c837-47f3-877d-9be9880b6b8e"
      },
      "execution_count": null,
      "outputs": [
        {
          "output_type": "stream",
          "name": "stdout",
          "text": [
            "code\n"
          ]
        },
        {
          "output_type": "execute_result",
          "data": {
            "text/plain": [
              "str"
            ]
          },
          "metadata": {},
          "execution_count": 1
        }
      ]
    },
    {
      "cell_type": "code",
      "source": [
        "my_f=82.2\n",
        "print(my_f)\n",
        "print(type(my_f))"
      ],
      "metadata": {
        "colab": {
          "base_uri": "https://localhost:8080/"
        },
        "id": "NN_zj9FlkNOB",
        "outputId": "bba17264-f4da-460c-d5e8-58e04d1a1c48"
      },
      "execution_count": null,
      "outputs": [
        {
          "output_type": "stream",
          "name": "stdout",
          "text": [
            "82.2\n",
            "<class 'float'>\n"
          ]
        }
      ]
    },
    {
      "cell_type": "code",
      "source": [
        "my_bool=True\n",
        "print(my_bool)\n",
        "print(type(my_bool))"
      ],
      "metadata": {
        "colab": {
          "base_uri": "https://localhost:8080/"
        },
        "id": "MJqfYqeKkTUn",
        "outputId": "a62a937a-c6f4-4c53-ac87-dde1a0c3d6e4"
      },
      "execution_count": null,
      "outputs": [
        {
          "output_type": "stream",
          "name": "stdout",
          "text": [
            "True\n",
            "<class 'bool'>\n"
          ]
        }
      ]
    },
    {
      "cell_type": "code",
      "source": [
        "my_none=None\n",
        "print(my_none)\n",
        "print(type(my_none))"
      ],
      "metadata": {
        "colab": {
          "base_uri": "https://localhost:8080/"
        },
        "id": "U4NosogjkYXh",
        "outputId": "8328e1ca-c2ac-47cf-b636-66cde1b241de"
      },
      "execution_count": null,
      "outputs": [
        {
          "output_type": "stream",
          "name": "stdout",
          "text": [
            "None\n",
            "<class 'NoneType'>\n"
          ]
        }
      ]
    },
    {
      "cell_type": "code",
      "source": [
        "name=input(\"Enter your name:\")"
      ],
      "metadata": {
        "colab": {
          "base_uri": "https://localhost:8080/"
        },
        "id": "USKKvuRJkd-V",
        "outputId": "c9ac4183-9c11-4626-fbfe-b8610139dc93"
      },
      "execution_count": null,
      "outputs": [
        {
          "name": "stdout",
          "output_type": "stream",
          "text": [
            "Enter your name:Veda\n"
          ]
        }
      ]
    },
    {
      "cell_type": "code",
      "source": [
        "print(name)\n",
        "print(type(name))"
      ],
      "metadata": {
        "colab": {
          "base_uri": "https://localhost:8080/"
        },
        "id": "Qa5wlOqKkj0v",
        "outputId": "a2908cf1-42b0-4630-da6f-8db5a3230cde"
      },
      "execution_count": null,
      "outputs": [
        {
          "output_type": "stream",
          "name": "stdout",
          "text": [
            "Veda\n",
            "<class 'str'>\n"
          ]
        }
      ]
    },
    {
      "cell_type": "code",
      "source": [
        "num='8'\n",
        "print(type(num))"
      ],
      "metadata": {
        "colab": {
          "base_uri": "https://localhost:8080/"
        },
        "id": "nauHQGEWkpA2",
        "outputId": "929090f5-8b31-4011-f526-dc9a3074284c"
      },
      "execution_count": null,
      "outputs": [
        {
          "output_type": "stream",
          "name": "stdout",
          "text": [
            "<class 'str'>\n"
          ]
        }
      ]
    },
    {
      "cell_type": "code",
      "source": [
        "num=int(num)\n",
        "print(type(num))"
      ],
      "metadata": {
        "colab": {
          "base_uri": "https://localhost:8080/"
        },
        "id": "pTfukAK0kto3",
        "outputId": "c0b8d739-d72c-4576-a253-25e3d4f35a04"
      },
      "execution_count": null,
      "outputs": [
        {
          "output_type": "stream",
          "name": "stdout",
          "text": [
            "<class 'int'>\n"
          ]
        }
      ]
    },
    {
      "cell_type": "code",
      "source": [
        "age=int(input(\"What is your age ? \"))"
      ],
      "metadata": {
        "colab": {
          "base_uri": "https://localhost:8080/"
        },
        "id": "RR5AlgH6k2vN",
        "outputId": "32862d57-64b4-4cfb-90b2-cae76fc37445"
      },
      "execution_count": null,
      "outputs": [
        {
          "name": "stdout",
          "output_type": "stream",
          "text": [
            "What is your age ? 20\n"
          ]
        }
      ]
    },
    {
      "cell_type": "code",
      "source": [
        "print(age)\n",
        "print(type(age))"
      ],
      "metadata": {
        "colab": {
          "base_uri": "https://localhost:8080/"
        },
        "id": "MWUf2Zi5k-HA",
        "outputId": "88b07fd3-23f3-4d6e-f23d-ae0c7a873219"
      },
      "execution_count": null,
      "outputs": [
        {
          "output_type": "stream",
          "name": "stdout",
          "text": [
            "20\n",
            "<class 'int'>\n"
          ]
        }
      ]
    },
    {
      "cell_type": "code",
      "source": [
        "a=12\n",
        "b=3"
      ],
      "metadata": {
        "id": "UEtoh6YQlDXN"
      },
      "execution_count": null,
      "outputs": []
    },
    {
      "cell_type": "code",
      "source": [
        "print(\"add= \",a+b)\n",
        "print(\"sub= \",a-b)\n",
        "print(\"multi= \",a*b)\n",
        "print(\"div= \",a/b)\n",
        "print(\"f_div= \",a//b)\n",
        "print(\"exp= \",a**b)\n",
        "print(\"mod= \",a%b)"
      ],
      "metadata": {
        "colab": {
          "base_uri": "https://localhost:8080/"
        },
        "id": "LDvzukwTlJHJ",
        "outputId": "eb7885c0-ebbf-4e3d-c44e-7204a6360856"
      },
      "execution_count": null,
      "outputs": [
        {
          "output_type": "stream",
          "name": "stdout",
          "text": [
            "add=  15\n",
            "sub=  9\n",
            "multi=  36\n",
            "div=  4.0\n",
            "f_div=  4\n",
            "exp=  1728\n",
            "mod=  0\n"
          ]
        }
      ]
    },
    {
      "cell_type": "code",
      "source": [
        "print(\"a>b:\",a>b)\n",
        "print(\"a<b:\",a<b)\n",
        "print(\"a==b:\",a==b)\n",
        "print(\"a!=b:\",a!=b)"
      ],
      "metadata": {
        "colab": {
          "base_uri": "https://localhost:8080/"
        },
        "id": "W4IOpSEZlMkA",
        "outputId": "54eed489-3352-49b0-d717-ff89aa6cc7d6"
      },
      "execution_count": null,
      "outputs": [
        {
          "output_type": "stream",
          "name": "stdout",
          "text": [
            "a>b: True\n",
            "a<b: False\n",
            "a==b: False\n",
            "a!=b: True\n"
          ]
        }
      ]
    },
    {
      "cell_type": "code",
      "source": [
        "print((10>2)and (10<20))"
      ],
      "metadata": {
        "colab": {
          "base_uri": "https://localhost:8080/"
        },
        "id": "3zwIOvPdlRx2",
        "outputId": "0a9acaf3-64c2-486c-d213-9073f4eeedda"
      },
      "execution_count": null,
      "outputs": [
        {
          "output_type": "stream",
          "name": "stdout",
          "text": [
            "True\n"
          ]
        }
      ]
    },
    {
      "cell_type": "code",
      "source": [
        "print((10>20) or (10>11))"
      ],
      "metadata": {
        "colab": {
          "base_uri": "https://localhost:8080/"
        },
        "id": "FYd43RC_lXAg",
        "outputId": "2d61d8e8-2465-4010-96e2-b30506b66189"
      },
      "execution_count": null,
      "outputs": [
        {
          "output_type": "stream",
          "name": "stdout",
          "text": [
            "False\n"
          ]
        }
      ]
    },
    {
      "cell_type": "code",
      "source": [
        "print(not(True))"
      ],
      "metadata": {
        "id": "o_6aa1HYlelV",
        "outputId": "1ebb7485-9a61-4d03-86f5-24ddf66472ea",
        "colab": {
          "base_uri": "https://localhost:8080/"
        }
      },
      "execution_count": null,
      "outputs": [
        {
          "output_type": "stream",
          "name": "stdout",
          "text": [
            "False\n"
          ]
        }
      ]
    },
    {
      "cell_type": "code",
      "source": [
        "print(10 & 4)"
      ],
      "metadata": {
        "colab": {
          "base_uri": "https://localhost:8080/"
        },
        "id": "1FDsYZ7BlxCQ",
        "outputId": "6d4e2f87-f152-4631-9733-b29e4a649cb8"
      },
      "execution_count": null,
      "outputs": [
        {
          "output_type": "stream",
          "name": "stdout",
          "text": [
            "0\n"
          ]
        }
      ]
    },
    {
      "cell_type": "code",
      "source": [
        "print(10 | 4)"
      ],
      "metadata": {
        "colab": {
          "base_uri": "https://localhost:8080/"
        },
        "id": "JOVWLUkfl3ci",
        "outputId": "9dead7d5-f640-40cc-82ab-79fe84fdd793"
      },
      "execution_count": null,
      "outputs": [
        {
          "output_type": "stream",
          "name": "stdout",
          "text": [
            "14\n"
          ]
        }
      ]
    },
    {
      "cell_type": "code",
      "source": [
        "\"g\" in \"good\""
      ],
      "metadata": {
        "colab": {
          "base_uri": "https://localhost:8080/"
        },
        "id": "_G5lOnSdl_sF",
        "outputId": "147c55ca-0c52-431c-e497-4537c8352bc7"
      },
      "execution_count": null,
      "outputs": [
        {
          "output_type": "execute_result",
          "data": {
            "text/plain": [
              "True"
            ]
          },
          "metadata": {},
          "execution_count": 19
        }
      ]
    },
    {
      "cell_type": "code",
      "source": [
        "age=14\n",
        "if(age>=18):\n",
        "  print(\"you can vote\")\n",
        "else:\n",
        "  print(\"Grow up first\")"
      ],
      "metadata": {
        "colab": {
          "base_uri": "https://localhost:8080/"
        },
        "id": "2Qtnmk0vmPps",
        "outputId": "f27d7227-c50a-46ee-eea0-8aa4e81c931e"
      },
      "execution_count": null,
      "outputs": [
        {
          "output_type": "stream",
          "name": "stdout",
          "text": [
            "Grow up first\n"
          ]
        }
      ]
    },
    {
      "cell_type": "code",
      "source": [
        "age=17\n",
        "if(age>=18):\n",
        "  print(\"you can vote\")\n",
        "elif(age >=15):\n",
        "  print(\"Grow up first\")\n",
        "else:\n",
        "  print(\"Go home kid..\")"
      ],
      "metadata": {
        "colab": {
          "base_uri": "https://localhost:8080/"
        },
        "id": "Z1cVpVfYmUvV",
        "outputId": "53a26d09-26eb-4f9b-830d-51f91a00e709"
      },
      "execution_count": null,
      "outputs": [
        {
          "output_type": "stream",
          "name": "stdout",
          "text": [
            "Grow up first\n"
          ]
        }
      ]
    },
    {
      "cell_type": "code",
      "source": [
        "i=1\n",
        "while(i<=20):\n",
        "  if(i%2==0):\n",
        "    print(i,end=\",\") #end is used to print all o/p's in one line\n",
        "  i=i+1"
      ],
      "metadata": {
        "colab": {
          "base_uri": "https://localhost:8080/"
        },
        "id": "z1raaffqmi5e",
        "outputId": "0bac3ba3-e8de-4340-f2e4-8911dacd5e17"
      },
      "execution_count": null,
      "outputs": [
        {
          "output_type": "stream",
          "name": "stdout",
          "text": [
            "2,4,6,8,10,12,14,16,18,20,"
          ]
        }
      ]
    },
    {
      "cell_type": "code",
      "source": [
        "for i in range(1,21):\n",
        "  if(i%2==0):\n",
        "    print(i,end=\" \")"
      ],
      "metadata": {
        "colab": {
          "base_uri": "https://localhost:8080/"
        },
        "id": "k4V2oEEpm5_b",
        "outputId": "baac5b41-18a7-4da8-d813-c0116cbd2dbf"
      },
      "execution_count": null,
      "outputs": [
        {
          "output_type": "stream",
          "name": "stdout",
          "text": [
            "2 4 6 8 10 12 14 16 18 20 "
          ]
        }
      ]
    },
    {
      "cell_type": "code",
      "source": [
        "for i in range(2,21,2):\n",
        "  if(i%2==0):\n",
        "    print(i,end=\" \")"
      ],
      "metadata": {
        "colab": {
          "base_uri": "https://localhost:8080/"
        },
        "id": "qhLy3HOrnFi2",
        "outputId": "eb26bc38-1f07-430d-c944-3b70c6cd42a1"
      },
      "execution_count": null,
      "outputs": [
        {
          "output_type": "stream",
          "name": "stdout",
          "text": [
            "2 4 6 8 10 12 14 16 18 20 "
          ]
        }
      ]
    },
    {
      "cell_type": "code",
      "source": [
        "n=int(input(\"enter a number: \"))\n",
        "for i in range(1,11,1):\n",
        "  print(n,\"x\",i,\"=\",n*i)"
      ],
      "metadata": {
        "colab": {
          "base_uri": "https://localhost:8080/"
        },
        "id": "LmMqsEbHnN5y",
        "outputId": "8e82050c-01f8-48d6-fbc3-43f8224e0958"
      },
      "execution_count": null,
      "outputs": [
        {
          "output_type": "stream",
          "name": "stdout",
          "text": [
            "enter a number: 27\n",
            "27 x 1 = 27\n",
            "27 x 2 = 54\n",
            "27 x 3 = 81\n",
            "27 x 4 = 108\n",
            "27 x 5 = 135\n",
            "27 x 6 = 162\n",
            "27 x 7 = 189\n",
            "27 x 8 = 216\n",
            "27 x 9 = 243\n",
            "27 x 10 = 270\n"
          ]
        }
      ]
    },
    {
      "cell_type": "code",
      "source": [
        "for i in range(1,10):\n",
        "  if (i==6):\n",
        "    break  #used to terminate all iterations\n",
        "  print(i)"
      ],
      "metadata": {
        "colab": {
          "base_uri": "https://localhost:8080/"
        },
        "id": "pfUizRj1oPUN",
        "outputId": "7ab7ca27-0cfa-44d9-e374-ff3ccb95f08c"
      },
      "execution_count": null,
      "outputs": [
        {
          "output_type": "stream",
          "name": "stdout",
          "text": [
            "1\n",
            "2\n",
            "3\n",
            "4\n",
            "5\n"
          ]
        }
      ]
    },
    {
      "cell_type": "code",
      "source": [
        "for i in range(1,10):\n",
        "  if (i==6):\n",
        "    continue #skips just current iteration\n",
        "  print(i)"
      ],
      "metadata": {
        "colab": {
          "base_uri": "https://localhost:8080/"
        },
        "id": "m6hJYHgcoUP8",
        "outputId": "a14d417b-1ea1-4122-c8c8-9b57a1cfe8e7"
      },
      "execution_count": null,
      "outputs": [
        {
          "output_type": "stream",
          "name": "stdout",
          "text": [
            "1\n",
            "2\n",
            "3\n",
            "4\n",
            "5\n",
            "7\n",
            "8\n",
            "9\n"
          ]
        }
      ]
    },
    {
      "cell_type": "code",
      "source": [
        "n=int(input(\"Enter number: \"))\n",
        "if(n%2==0):\n",
        "  print(\"Given number is even\")\n",
        "else:\n",
        "  print(\"Given number is odd\")"
      ],
      "metadata": {
        "colab": {
          "base_uri": "https://localhost:8080/"
        },
        "id": "1khIB23YoiIt",
        "outputId": "96f81037-d78b-4ab1-ca7a-435c7217a89e"
      },
      "execution_count": null,
      "outputs": [
        {
          "output_type": "stream",
          "name": "stdout",
          "text": [
            "Enter number: 17\n",
            "Given number is odd\n"
          ]
        }
      ]
    },
    {
      "cell_type": "code",
      "source": [
        "a=int(input(\"Enter first number: \"))\n",
        "b=int(input(\"Enter second number: \"))\n",
        "c=int(input(\"Enter third number: \"))\n",
        "if((a>b) and (a>c)):\n",
        "  print(a,\" is largest among the given 3 numbers\")\n",
        "elif((b>c) and (b>a)):\n",
        "  print(b,\" is largest among the given 3 numbers\")\n",
        "else:\n",
        "    print(c,\" is largest among the given 3 numbers\")"
      ],
      "metadata": {
        "colab": {
          "base_uri": "https://localhost:8080/"
        },
        "id": "MHjHk6qto0dC",
        "outputId": "4dc8d1de-3092-4a5f-d098-bec839b20d55"
      },
      "execution_count": null,
      "outputs": [
        {
          "output_type": "stream",
          "name": "stdout",
          "text": [
            "Enter first number: 2\n",
            "Enter second number: 3\n",
            "Enter third number: 4\n",
            "4  is largest among the given 3 numbers\n"
          ]
        }
      ]
    },
    {
      "cell_type": "code",
      "source": [
        "n=int(input(\"Enter a number: \"))\n",
        "fact=1\n",
        "if(n==0 or n==1):\n",
        "  print(\"Factorial of \",n,\"is: 1\")\n",
        "if(n>1):\n",
        "  for i in range(1,n+1):\n",
        "    fact=fact*i\n",
        "  print(\"Factorial of \",n,\"is: \",fact)"
      ],
      "metadata": {
        "colab": {
          "base_uri": "https://localhost:8080/"
        },
        "id": "Rmjea6tnpjvS",
        "outputId": "fd54554b-c42c-494c-b6ca-ac7867ce3195"
      },
      "execution_count": null,
      "outputs": [
        {
          "output_type": "stream",
          "name": "stdout",
          "text": [
            "Enter a number: 22\n",
            "Factorial of  22 is:  1124000727777607680000\n"
          ]
        }
      ]
    },
    {
      "cell_type": "code",
      "source": [
        "n=int(input(\"Enter a number: \"))\n",
        "count=0\n",
        "if(n==1):\n",
        "  print(\"neither prime nor composite\")\n",
        "elif(n>1):\n",
        "  for i in range(1,n+1):\n",
        "    if(n%i==0):\n",
        "      count+=1\n",
        "  if(count<=2):\n",
        "    print(n,\"is prime\")\n",
        "else:\n",
        "  print(n,\"is not prime\")"
      ],
      "metadata": {
        "colab": {
          "base_uri": "https://localhost:8080/"
        },
        "id": "Z4T-fBnLp45Y",
        "outputId": "ea93a510-78b2-43fa-c0a6-20b2c8a3508a"
      },
      "execution_count": null,
      "outputs": [
        {
          "name": "stdout",
          "output_type": "stream",
          "text": [
            "Enter a number: 12\n"
          ]
        }
      ]
    },
    {
      "cell_type": "code",
      "source": [
        "my_str=\"Welcome to the Course\""
      ],
      "metadata": {
        "id": "cNz2r4gJrI3R"
      },
      "execution_count": null,
      "outputs": []
    },
    {
      "cell_type": "code",
      "source": [
        "print(my_str)\n",
        "print(type(my_str))"
      ],
      "metadata": {
        "colab": {
          "base_uri": "https://localhost:8080/"
        },
        "id": "SXNokBLyri8t",
        "outputId": "f1b2e304-c960-435f-cc63-a961d510b97a"
      },
      "execution_count": null,
      "outputs": [
        {
          "output_type": "stream",
          "name": "stdout",
          "text": [
            "Welcome to the Course\n",
            "<class 'str'>\n"
          ]
        }
      ]
    },
    {
      "cell_type": "code",
      "source": [
        "print(my_str[0])\n",
        "print(my_str[1])"
      ],
      "metadata": {
        "colab": {
          "base_uri": "https://localhost:8080/"
        },
        "id": "K5-anNotrnau",
        "outputId": "deb3db30-4bbf-43ae-a68b-7708d4ece1e4"
      },
      "execution_count": null,
      "outputs": [
        {
          "output_type": "stream",
          "name": "stdout",
          "text": [
            "W\n",
            "e\n"
          ]
        }
      ]
    },
    {
      "cell_type": "code",
      "source": [
        "print(len(my_str))"
      ],
      "metadata": {
        "colab": {
          "base_uri": "https://localhost:8080/"
        },
        "id": "-4n5mLqgr12w",
        "outputId": "045a7886-ddfc-4363-a395-84e48e291ae2"
      },
      "execution_count": null,
      "outputs": [
        {
          "output_type": "stream",
          "name": "stdout",
          "text": [
            "21\n"
          ]
        }
      ]
    },
    {
      "cell_type": "code",
      "source": [
        "print(my_str[len(my_str)-1])"
      ],
      "metadata": {
        "colab": {
          "base_uri": "https://localhost:8080/"
        },
        "id": "XJOMbBQ6sEzZ",
        "outputId": "b71bbd7b-2897-4337-a409-9947ec42cc43"
      },
      "execution_count": null,
      "outputs": [
        {
          "output_type": "stream",
          "name": "stdout",
          "text": [
            "e\n"
          ]
        }
      ]
    },
    {
      "cell_type": "code",
      "source": [
        "print(my_str[-1])\n",
        "print(my_str[-5])"
      ],
      "metadata": {
        "colab": {
          "base_uri": "https://localhost:8080/"
        },
        "id": "xQR-WsHgsKOg",
        "outputId": "88039130-86c9-409a-fc9f-4bdb727e0825"
      },
      "execution_count": null,
      "outputs": [
        {
          "output_type": "stream",
          "name": "stdout",
          "text": [
            "e\n",
            "o\n"
          ]
        }
      ]
    },
    {
      "cell_type": "code",
      "source": [
        "print(my_str[2:7])"
      ],
      "metadata": {
        "colab": {
          "base_uri": "https://localhost:8080/"
        },
        "id": "oH5m_KZwsXKB",
        "outputId": "153f5494-c234-45e3-f5a0-3f8c88d81de8"
      },
      "execution_count": null,
      "outputs": [
        {
          "output_type": "stream",
          "name": "stdout",
          "text": [
            "lcome\n"
          ]
        }
      ]
    },
    {
      "cell_type": "code",
      "source": [
        "print(my_str[:])"
      ],
      "metadata": {
        "colab": {
          "base_uri": "https://localhost:8080/"
        },
        "id": "lMUxZZEhslwW",
        "outputId": "27a57730-7266-4715-e1d1-30c24bf8c625"
      },
      "execution_count": null,
      "outputs": [
        {
          "output_type": "stream",
          "name": "stdout",
          "text": [
            "Welcome to the Course\n"
          ]
        }
      ]
    },
    {
      "cell_type": "code",
      "source": [
        "print(my_str[:-1])"
      ],
      "metadata": {
        "colab": {
          "base_uri": "https://localhost:8080/"
        },
        "id": "ANAjk1rCsueF",
        "outputId": "dfa4d847-aa10-4ae4-99bd-6abb5ece5466"
      },
      "execution_count": null,
      "outputs": [
        {
          "output_type": "stream",
          "name": "stdout",
          "text": [
            "Welcome to the Cours\n"
          ]
        }
      ]
    },
    {
      "cell_type": "code",
      "source": [
        "print(my_str)"
      ],
      "metadata": {
        "colab": {
          "base_uri": "https://localhost:8080/"
        },
        "id": "sD6vqZrws71I",
        "outputId": "dae74296-677a-437b-ce0f-612bd3404aca"
      },
      "execution_count": null,
      "outputs": [
        {
          "output_type": "stream",
          "name": "stdout",
          "text": [
            "Welcome to the Course\n"
          ]
        }
      ]
    },
    {
      "cell_type": "code",
      "source": [
        "print(my_str.lower())"
      ],
      "metadata": {
        "colab": {
          "base_uri": "https://localhost:8080/"
        },
        "id": "lCNfSUs7tEvZ",
        "outputId": "9c6761f3-1829-4313-cfaf-455e17ad0b4a"
      },
      "execution_count": null,
      "outputs": [
        {
          "output_type": "stream",
          "name": "stdout",
          "text": [
            "welcome to the course\n"
          ]
        }
      ]
    },
    {
      "cell_type": "code",
      "source": [
        "print(my_str.upper())"
      ],
      "metadata": {
        "colab": {
          "base_uri": "https://localhost:8080/"
        },
        "id": "Dmuyw2AMtIC6",
        "outputId": "6e035a59-3e39-4980-e372-c3371f9b8918"
      },
      "execution_count": null,
      "outputs": [
        {
          "output_type": "stream",
          "name": "stdout",
          "text": [
            "WELCOME TO THE COURSE\n"
          ]
        }
      ]
    },
    {
      "cell_type": "code",
      "source": [
        "print(my_str.title)"
      ],
      "metadata": {
        "colab": {
          "base_uri": "https://localhost:8080/"
        },
        "id": "eAW9llF3tM2f",
        "outputId": "c5b4288e-32e6-410e-823a-589bc6f80262"
      },
      "execution_count": null,
      "outputs": [
        {
          "output_type": "stream",
          "name": "stdout",
          "text": [
            "<built-in method title of str object at 0x793af26f1d90>\n"
          ]
        }
      ]
    },
    {
      "cell_type": "code",
      "source": [
        "my_str.find(\"come\")"
      ],
      "metadata": {
        "colab": {
          "base_uri": "https://localhost:8080/"
        },
        "id": "XvcGyQGvtT6F",
        "outputId": "13e9b51b-a5bf-422b-860d-5873835ee709"
      },
      "execution_count": null,
      "outputs": [
        {
          "output_type": "execute_result",
          "data": {
            "text/plain": [
              "3"
            ]
          },
          "metadata": {},
          "execution_count": 46
        }
      ]
    },
    {
      "cell_type": "code",
      "source": [
        "print(my_str.title ())"
      ],
      "metadata": {
        "id": "8Gt2dP_Nuy00",
        "outputId": "044a520d-859f-4644-e93d-699610f2bfdd",
        "colab": {
          "base_uri": "https://localhost:8080/"
        }
      },
      "execution_count": null,
      "outputs": [
        {
          "output_type": "stream",
          "name": "stdout",
          "text": [
            "Welcome To The Course\n"
          ]
        }
      ]
    },
    {
      "cell_type": "code",
      "source": [
        "my_str.split(\" \")"
      ],
      "metadata": {
        "id": "uhrSAhT0u0pq",
        "outputId": "9aefe989-c3dd-41e0-c7fa-650bbfbb01cc",
        "colab": {
          "base_uri": "https://localhost:8080/"
        }
      },
      "execution_count": null,
      "outputs": [
        {
          "output_type": "execute_result",
          "data": {
            "text/plain": [
              "['Welcome', 'to', 'the', 'Course']"
            ]
          },
          "metadata": {},
          "execution_count": 48
        }
      ]
    }
  ],
  "metadata": {
    "colab": {
      "provenance": [],
      "authorship_tag": "ABX9TyPiYpAQh89jC1H5FukB8txT",
      "include_colab_link": true
    },
    "kernelspec": {
      "display_name": "Python 3",
      "name": "python3"
    },
    "language_info": {
      "name": "python"
    }
  },
  "nbformat": 4,
  "nbformat_minor": 0
}